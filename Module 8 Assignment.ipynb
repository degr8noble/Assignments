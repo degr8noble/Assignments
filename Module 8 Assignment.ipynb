{
 "cells": [
  {
   "cell_type": "markdown",
   "metadata": {
    "deletable": false,
    "editable": false,
    "nbgrader": {
     "cell_type": "markdown",
     "checksum": "fe6fff7582d024bdf57075df19c2824c",
     "grade": false,
     "grade_id": "cell-9fe3edd84ede6fcf",
     "locked": true,
     "schema_version": 3,
     "solution": false
    }
   },
   "source": [
    "# Module 8 Assignment\n",
    "\n",
    "A few things you should keep in mind when working on assignments:\n",
    "\n",
    "1. Run the first code cell to import modules needed by this assignment before proceeding to problems.\n",
    "2. Make sure you fill in any place that says `# YOUR CODE HERE`. Do not write your answer anywhere else other than where it says `# YOUR CODE HERE`. Anything you write elsewhere will be removed or overwritten by the autograder.\n",
    "3. Each problem has an autograder cell below the answer cell. Run the autograder cell to check your answer. If there's anything wrong in your answer, the autograder cell will display error messages.\n",
    "4. Before you submit your assignment, make sure everything runs as expected. Go to the menubar, select Kernel, and Restart & Run all. If the notebook runs through the last code cell without an error message, you've answered all problems correctly.\n",
    "5. Make sure that you save your work (in the menubar, select File → Save and CheckPoint).\n",
    "\n",
    "-----"
   ]
  },
  {
   "cell_type": "markdown",
   "metadata": {
    "deletable": false,
    "editable": false,
    "nbgrader": {
     "cell_type": "markdown",
     "checksum": "47e45c5a2e283a97e5474d0589595ce8",
     "grade": false,
     "grade_id": "cell-31752648086a10b5",
     "locked": true,
     "schema_version": 3,
     "solution": false
    }
   },
   "source": [
    "# Run Me First!"
   ]
  },
  {
   "cell_type": "code",
   "execution_count": 1,
   "metadata": {
    "deletable": false,
    "editable": false,
    "nbgrader": {
     "cell_type": "code",
     "checksum": "2c9851cd7a11f7e0f2cdf1bd7a6c8e37",
     "grade": false,
     "grade_id": "cell-88dd2a72c7ccd97d",
     "locked": true,
     "schema_version": 3,
     "solution": false
    }
   },
   "outputs": [],
   "source": [
    "%matplotlib inline\n",
    "\n",
    "import numpy as np\n",
    "import pandas as pd\n",
    "import seaborn as sns\n",
    "import matplotlib.pyplot as plt\n",
    "\n",
    "from datetime import datetime\n",
    "\n",
    "from nose.tools import assert_equal, assert_true"
   ]
  },
  {
   "cell_type": "markdown",
   "metadata": {},
   "source": [
    "-----\n",
    "\n",
    "## Problem 1: Converting Datetme String to Datetime Object\n",
    "\n",
    "In the Code cell below, we declare a function named `convert_datetime` that takes one argument: `datetime_str`, which is a string representation of datetime. The `datetime_str` is in \"yyyy-mm-dd HH:MM:SS\" format(ie. \"2019-09-30 12:30:59\")\n",
    "\n",
    "To complete this problem, finish writing the function `convert_datetime`:\n",
    "- Convert a datetime string in \"yyyy-mm-dd HH:MM:SS\" format to a datetime object.\n",
    "- Return the datetime object.\n",
    "\n",
    "-----"
   ]
  },
  {
   "cell_type": "code",
   "execution_count": 2,
   "metadata": {
    "deletable": false,
    "nbgrader": {
     "cell_type": "code",
     "checksum": "56ec85e89b3961a80706091eb957c7ab",
     "grade": false,
     "grade_id": "p1-answer",
     "locked": false,
     "schema_version": 3,
     "solution": true
    }
   },
   "outputs": [],
   "source": [
    "def convert_datetime(datetime_str):\n",
    "    # YOUR CODE HERE\n",
    "    try:\n",
    "        return datetime.strptime(datetime_str, '%Y-%m-%d')\n",
    "    except:\n",
    "        pass\n",
    "    try:\n",
    "        return datetime.strptime(datetime_str, '%m/%d/%Y')\n",
    "    except:\n",
    "        pass\n",
    "    try:\n",
    "        return datetime.strptime(datetime_str, '%Y-%m-%d %H:%M:%S')\n",
    "    except:\n",
    "        pass\n",
    "    print (\"Can't convert\", datetime_str)"
   ]
  },
  {
   "cell_type": "code",
   "execution_count": 3,
   "metadata": {
    "deletable": false,
    "editable": false,
    "nbgrader": {
     "cell_type": "code",
     "checksum": "d195515702b74b1919ae20b4f94b1bc7",
     "grade": true,
     "grade_id": "p1-test",
     "locked": true,
     "points": 1,
     "schema_version": 3,
     "solution": false
    }
   },
   "outputs": [],
   "source": [
    "assert_equal(convert_datetime('2019-09-09 00:00:00'), datetime(2019, 9, 9),\n",
    "             msg='convert_datetime is not defined correctly')\n",
    "assert_equal(convert_datetime('2019-09-09 12:59:59'), datetime(2019, 9, 9,12,59,59),\n",
    "             msg='convert_datetime is not defined correctly')\n"
   ]
  },
  {
   "cell_type": "markdown",
   "metadata": {
    "deletable": false,
    "editable": false,
    "nbgrader": {
     "cell_type": "markdown",
     "checksum": "94c822d1a39c17d12e2a82ab08f8e404",
     "grade": false,
     "grade_id": "cell-6cc2ae0e085cc156",
     "locked": true,
     "schema_version": 3,
     "solution": false
    }
   },
   "source": [
    "-----\n",
    "\n",
    "## Problem 2: Reading in Data\n",
    "\n",
    "In the Code cell below, we declare a function named `read_data` that takes one function parameter: `file_path`, which is a string.\n",
    "\n",
    "To complete this problem, finish writing the function `read_data`:\n",
    "- Read data from the file specified in the string `file_path`, by using the Pandas `read_csv` function.\n",
    "- Return the resulting DataFrame.\n",
    "\n",
    "-----"
   ]
  },
  {
   "cell_type": "code",
   "execution_count": 4,
   "metadata": {
    "deletable": false,
    "nbgrader": {
     "cell_type": "code",
     "checksum": "47f9b33af6eb8f85e9947339c8dece35",
     "grade": false,
     "grade_id": "p2-answer",
     "locked": false,
     "schema_version": 3,
     "solution": true
    }
   },
   "outputs": [],
   "source": [
    "def read_data(file_path):\n",
    "    '''\n",
    "    Parameters\n",
    "    ----------\n",
    "    file_path: string containing path to the dataset\n",
    "    \n",
    "    Returns\n",
    "    -------\n",
    "    Pandas DataFrame\n",
    "    '''\n",
    "    # YOUR CODE HERE\n",
    "    return pd.read_csv(file_path)\n",
    "    "
   ]
  },
  {
   "cell_type": "code",
   "execution_count": 5,
   "metadata": {
    "deletable": false,
    "editable": false,
    "nbgrader": {
     "cell_type": "code",
     "checksum": "7a14b183c7dee515ef2e5297bcc91b5e",
     "grade": true,
     "grade_id": "p2-test",
     "locked": true,
     "points": 1,
     "schema_version": 3,
     "solution": false
    }
   },
   "outputs": [
    {
     "data": {
      "text/html": [
       "<div>\n",
       "<style scoped>\n",
       "    .dataframe tbody tr th:only-of-type {\n",
       "        vertical-align: middle;\n",
       "    }\n",
       "\n",
       "    .dataframe tbody tr th {\n",
       "        vertical-align: top;\n",
       "    }\n",
       "\n",
       "    .dataframe thead th {\n",
       "        text-align: right;\n",
       "    }\n",
       "</style>\n",
       "<table border=\"1\" class=\"dataframe\">\n",
       "  <thead>\n",
       "    <tr style=\"text-align: right;\">\n",
       "      <th></th>\n",
       "      <th>quarter</th>\n",
       "      <th>stock</th>\n",
       "      <th>date</th>\n",
       "      <th>open</th>\n",
       "      <th>high</th>\n",
       "      <th>low</th>\n",
       "      <th>close</th>\n",
       "      <th>volume</th>\n",
       "      <th>percent_change_price</th>\n",
       "      <th>percent_change_volume_over_last_wk</th>\n",
       "      <th>previous_weeks_volume</th>\n",
       "      <th>next_weeks_open</th>\n",
       "      <th>next_weeks_close</th>\n",
       "      <th>percent_change_next_weeks_price</th>\n",
       "      <th>days_to_next_dividend</th>\n",
       "      <th>percent_return_next_dividend</th>\n",
       "    </tr>\n",
       "  </thead>\n",
       "  <tbody>\n",
       "    <tr>\n",
       "      <th>0</th>\n",
       "      <td>1</td>\n",
       "      <td>AA</td>\n",
       "      <td>1/7/2011</td>\n",
       "      <td>15.82</td>\n",
       "      <td>16.72</td>\n",
       "      <td>15.78</td>\n",
       "      <td>16.42</td>\n",
       "      <td>239655616</td>\n",
       "      <td>3.79267</td>\n",
       "      <td>NaN</td>\n",
       "      <td>NaN</td>\n",
       "      <td>16.71</td>\n",
       "      <td>15.97</td>\n",
       "      <td>-4.42849</td>\n",
       "      <td>26</td>\n",
       "      <td>0.182704</td>\n",
       "    </tr>\n",
       "    <tr>\n",
       "      <th>1</th>\n",
       "      <td>1</td>\n",
       "      <td>AA</td>\n",
       "      <td>1/14/2011</td>\n",
       "      <td>16.71</td>\n",
       "      <td>16.71</td>\n",
       "      <td>15.64</td>\n",
       "      <td>15.97</td>\n",
       "      <td>242963398</td>\n",
       "      <td>-4.42849</td>\n",
       "      <td>1.380223</td>\n",
       "      <td>239655616.0</td>\n",
       "      <td>16.19</td>\n",
       "      <td>15.79</td>\n",
       "      <td>-2.47066</td>\n",
       "      <td>19</td>\n",
       "      <td>0.187852</td>\n",
       "    </tr>\n",
       "  </tbody>\n",
       "</table>\n",
       "</div>"
      ],
      "text/plain": [
       "   quarter stock       date   open   high    low  close     volume  \\\n",
       "0        1    AA   1/7/2011  15.82  16.72  15.78  16.42  239655616   \n",
       "1        1    AA  1/14/2011  16.71  16.71  15.64  15.97  242963398   \n",
       "\n",
       "   percent_change_price  percent_change_volume_over_last_wk  \\\n",
       "0               3.79267                                 NaN   \n",
       "1              -4.42849                            1.380223   \n",
       "\n",
       "   previous_weeks_volume  next_weeks_open  next_weeks_close  \\\n",
       "0                    NaN            16.71             15.97   \n",
       "1            239655616.0            16.19             15.79   \n",
       "\n",
       "   percent_change_next_weeks_price  days_to_next_dividend  \\\n",
       "0                         -4.42849                     26   \n",
       "1                         -2.47066                     19   \n",
       "\n",
       "   percent_return_next_dividend  \n",
       "0                      0.182704  \n",
       "1                      0.187852  "
      ]
     },
     "execution_count": 5,
     "metadata": {},
     "output_type": "execute_result"
    }
   ],
   "source": [
    "path = 'data/dow_jones_index.data'\n",
    "dow_df = read_data(path)\n",
    "assert_equal(dow_df.shape[1], 16, msg=\"The number of columns your dataset has, does not match the solutions\")\n",
    "assert_equal(dow_df.shape[0], 750, msg=\"The number of rows your dataset has, does not match the solutions\")\n",
    "dow_df.head(2)"
   ]
  },
  {
   "cell_type": "markdown",
   "metadata": {
    "deletable": false,
    "editable": false,
    "nbgrader": {
     "cell_type": "markdown",
     "checksum": "b16a1d601a07c17bbd96bfc89a64ee03",
     "grade": false,
     "grade_id": "cell-34d75d264e64349c",
     "locked": true,
     "schema_version": 3,
     "solution": false
    }
   },
   "source": [
    "-----\n",
    "\n",
    "## Problem 3: Set Datetime Index\n",
    "\n",
    "\n",
    "For this problem you will use `dow_df` created in problem 2 autograder cell.\n",
    "\n",
    "To solve this problem do the following:\n",
    "- Convert the date column in `dow_df` from `object` type to `datetime` type by using the Pandas function `to_datetime`.\n",
    "- Create datetime index from date column using pandas `DatetimeIndex` function and set it as the index of `dow_df`.\n",
    "\n",
    "After this problem, `dow_df` has a datetime index.\n",
    "\n",
    "------"
   ]
  },
  {
   "cell_type": "code",
   "execution_count": 6,
   "metadata": {
    "deletable": false,
    "nbgrader": {
     "cell_type": "code",
     "checksum": "5441d36383ef903fd85f6f56f517c4da",
     "grade": false,
     "grade_id": "p3-answer",
     "locked": false,
     "schema_version": 3,
     "solution": true
    }
   },
   "outputs": [],
   "source": [
    "# YOUR CODE HERE\n",
    "dow_df['date'] = pd.to_datetime(dow_df.date)\n",
    "dow_df.index = pd.DatetimeIndex(dow_df.date)"
   ]
  },
  {
   "cell_type": "code",
   "execution_count": 7,
   "metadata": {
    "deletable": false,
    "editable": false,
    "nbgrader": {
     "cell_type": "code",
     "checksum": "02429807fc2fa68672b1b6153f495740",
     "grade": true,
     "grade_id": "p3-test",
     "locked": true,
     "points": 1,
     "schema_version": 3,
     "solution": false
    }
   },
   "outputs": [
    {
     "data": {
      "text/html": [
       "<div>\n",
       "<style scoped>\n",
       "    .dataframe tbody tr th:only-of-type {\n",
       "        vertical-align: middle;\n",
       "    }\n",
       "\n",
       "    .dataframe tbody tr th {\n",
       "        vertical-align: top;\n",
       "    }\n",
       "\n",
       "    .dataframe thead th {\n",
       "        text-align: right;\n",
       "    }\n",
       "</style>\n",
       "<table border=\"1\" class=\"dataframe\">\n",
       "  <thead>\n",
       "    <tr style=\"text-align: right;\">\n",
       "      <th></th>\n",
       "      <th>quarter</th>\n",
       "      <th>stock</th>\n",
       "      <th>date</th>\n",
       "      <th>open</th>\n",
       "      <th>high</th>\n",
       "      <th>low</th>\n",
       "      <th>close</th>\n",
       "      <th>volume</th>\n",
       "      <th>percent_change_price</th>\n",
       "      <th>percent_change_volume_over_last_wk</th>\n",
       "      <th>previous_weeks_volume</th>\n",
       "      <th>next_weeks_open</th>\n",
       "      <th>next_weeks_close</th>\n",
       "      <th>percent_change_next_weeks_price</th>\n",
       "      <th>days_to_next_dividend</th>\n",
       "      <th>percent_return_next_dividend</th>\n",
       "    </tr>\n",
       "    <tr>\n",
       "      <th>date</th>\n",
       "      <th></th>\n",
       "      <th></th>\n",
       "      <th></th>\n",
       "      <th></th>\n",
       "      <th></th>\n",
       "      <th></th>\n",
       "      <th></th>\n",
       "      <th></th>\n",
       "      <th></th>\n",
       "      <th></th>\n",
       "      <th></th>\n",
       "      <th></th>\n",
       "      <th></th>\n",
       "      <th></th>\n",
       "      <th></th>\n",
       "      <th></th>\n",
       "    </tr>\n",
       "  </thead>\n",
       "  <tbody>\n",
       "    <tr>\n",
       "      <th>2011-01-07</th>\n",
       "      <td>1</td>\n",
       "      <td>AA</td>\n",
       "      <td>2011-01-07</td>\n",
       "      <td>15.82</td>\n",
       "      <td>16.72</td>\n",
       "      <td>15.78</td>\n",
       "      <td>16.42</td>\n",
       "      <td>239655616</td>\n",
       "      <td>3.79267</td>\n",
       "      <td>NaN</td>\n",
       "      <td>NaN</td>\n",
       "      <td>16.71</td>\n",
       "      <td>15.97</td>\n",
       "      <td>-4.42849</td>\n",
       "      <td>26</td>\n",
       "      <td>0.182704</td>\n",
       "    </tr>\n",
       "    <tr>\n",
       "      <th>2011-01-14</th>\n",
       "      <td>1</td>\n",
       "      <td>AA</td>\n",
       "      <td>2011-01-14</td>\n",
       "      <td>16.71</td>\n",
       "      <td>16.71</td>\n",
       "      <td>15.64</td>\n",
       "      <td>15.97</td>\n",
       "      <td>242963398</td>\n",
       "      <td>-4.42849</td>\n",
       "      <td>1.380223</td>\n",
       "      <td>239655616.0</td>\n",
       "      <td>16.19</td>\n",
       "      <td>15.79</td>\n",
       "      <td>-2.47066</td>\n",
       "      <td>19</td>\n",
       "      <td>0.187852</td>\n",
       "    </tr>\n",
       "  </tbody>\n",
       "</table>\n",
       "</div>"
      ],
      "text/plain": [
       "            quarter stock       date   open   high    low  close     volume  \\\n",
       "date                                                                          \n",
       "2011-01-07        1    AA 2011-01-07  15.82  16.72  15.78  16.42  239655616   \n",
       "2011-01-14        1    AA 2011-01-14  16.71  16.71  15.64  15.97  242963398   \n",
       "\n",
       "            percent_change_price  percent_change_volume_over_last_wk  \\\n",
       "date                                                                   \n",
       "2011-01-07               3.79267                                 NaN   \n",
       "2011-01-14              -4.42849                            1.380223   \n",
       "\n",
       "            previous_weeks_volume  next_weeks_open  next_weeks_close  \\\n",
       "date                                                                   \n",
       "2011-01-07                    NaN            16.71             15.97   \n",
       "2011-01-14            239655616.0            16.19             15.79   \n",
       "\n",
       "            percent_change_next_weeks_price  days_to_next_dividend  \\\n",
       "date                                                                 \n",
       "2011-01-07                         -4.42849                     26   \n",
       "2011-01-14                         -2.47066                     19   \n",
       "\n",
       "            percent_return_next_dividend  \n",
       "date                                      \n",
       "2011-01-07                      0.182704  \n",
       "2011-01-14                      0.187852  "
      ]
     },
     "execution_count": 7,
     "metadata": {},
     "output_type": "execute_result"
    }
   ],
   "source": [
    "assert_equal(type(dow_df.index), pd.core.indexes.datetimes.DatetimeIndex, msg=\"The index is not datetime object.\")\n",
    "dow_df.head(2)"
   ]
  },
  {
   "cell_type": "markdown",
   "metadata": {
    "deletable": false,
    "editable": false,
    "nbgrader": {
     "cell_type": "markdown",
     "checksum": "f05937c10252327f478d78fd10ec6d79",
     "grade": false,
     "grade_id": "cell-5c71f0e397348902",
     "locked": true,
     "schema_version": 3,
     "solution": false
    }
   },
   "source": [
    "-----\n",
    "\n",
    "## Problem 4: Plot AA Close Price\n",
    "\n",
    "Plot close price of stock 'AA'.\n",
    "\n",
    "For this problem you will use `dow_df` updated in problem 3.\n",
    "\n",
    "To solve this problem do the following:\n",
    "- Use boolean mask to get rows of stock `AA` from dow_df, assign the resulting DataFrame to **aa_df**\n",
    "- Plot close price of aa_df by using the Pandas `plot` function.\n",
    "- Set plot title to \"AA close\", xlabel to \"date\", ylabel to \"close\"\n",
    "\n",
    "After this problem, a new variable **aa_df** is defined, a plot should show up with proper configuration.\n",
    "\n",
    "-----"
   ]
  },
  {
   "cell_type": "code",
   "execution_count": 8,
   "metadata": {
    "deletable": false,
    "nbgrader": {
     "cell_type": "code",
     "checksum": "fae4c0305e45545259197fff2ff18c13",
     "grade": false,
     "grade_id": "p4-answer",
     "locked": false,
     "schema_version": 3,
     "solution": true
    }
   },
   "outputs": [
    {
     "data": {
      "text/plain": [
       "[Text(0, 0.5, 'close'), Text(0.5, 0, 'date'), Text(0.5, 1.0, 'AA close')]"
      ]
     },
     "execution_count": 8,
     "metadata": {},
     "output_type": "execute_result"
    },
    {
     "data": {
      "image/png": "[encoded data removed]",
      "text/plain": [
       "<Figure size 576x288 with 1 Axes>"
      ]
     },
     "metadata": {
      "needs_background": "light"
     },
     "output_type": "display_data"
    }
   ],
   "source": [
    "fig, ax = plt.subplots(figsize=(8, 4))\n",
    "\n",
    "# YOUR CODE HERE\n",
    "aa_df=dow_df[dow_df[\"stock\"]=='AA']\n",
    "\n",
    "aa_df.close.plot(lw=0.1, alpha=0.5)\n",
    "\n",
    "ax.set(title='AA close',\n",
    "      xlabel='date', ylabel = 'close')"
   ]
  },
  {
   "cell_type": "code",
   "execution_count": 9,
   "metadata": {
    "deletable": false,
    "editable": false,
    "nbgrader": {
     "cell_type": "code",
     "checksum": "b4800381dae5d7c9e761df15750ebb2b",
     "grade": true,
     "grade_id": "p4-test",
     "locked": true,
     "points": 1,
     "schema_version": 3,
     "solution": false
    }
   },
   "outputs": [],
   "source": [
    "assert_equal(aa_df.shape[0], 25, msg='aa_df is not correct.')\n",
    "assert_equal(ax.get_title(), 'AA close', msg='Plot title is not AA close')\n",
    "assert_equal(ax.get_xlabel(), 'date', msg='Plot xlabel is not date')\n",
    "assert_equal(ax.get_ylabel(), 'close', msg='Plot ylabel is not close')"
   ]
  },
  {
   "cell_type": "code",
   "execution_count": null,
   "metadata": {},
   "outputs": [],
   "source": []
  }
 ],
 "metadata": {
  "coursera": {
   "course_slug": "machine-learning-accounting-python",
   "graded_item_id": "nRoA5",
   "launcher_item_id": "V4QmL"
  },
  "kernelspec": {
   "display_name": "Python 3",
   "language": "python",
   "name": "python3"
  },
  "language_info": {
   "codemirror_mode": {
    "name": "ipython",
    "version": 3
   },
   "file_extension": ".py",
   "mimetype": "text/x-python",
   "name": "python",
   "nbconvert_exporter": "python",
   "pygments_lexer": "ipython3",
   "version": "3.7.3"
  }
 },
 "nbformat": 4,
 "nbformat_minor": 2
}
